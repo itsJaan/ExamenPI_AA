{
  "nbformat": 4,
  "nbformat_minor": 0,
  "metadata": {
    "colab": {
      "name": "Ejercicio1_InsertionSort .ipynb",
      "provenance": [],
      "collapsed_sections": []
    },
    "kernelspec": {
      "name": "python3",
      "display_name": "Python 3"
    }
  },
  "cells": [
    {
      "cell_type": "code",
      "metadata": {
        "id": "YaXUHTDDq8KZ",
        "colab": {
          "base_uri": "https://localhost:8080/"
        },
        "outputId": "81c8dcbf-01d9-4b72-dc76-7893ca8a0241"
      },
      "source": [
        "from random import seed\n",
        "from random import randint\n",
        "import numpy as np\n",
        "import matplotlib.pyplot as plt\n",
        "import numpy as np\n",
        "import time as t\n",
        "\n",
        "def insertion_sort(cant):\n",
        "    listaDesordenada = []\n",
        "    seed(1)\n",
        "    for _ in range(cant):\n",
        "      listaDesordenada = np.append(listaDesordenada, randint(0,50))\n",
        "    veces = 0\n",
        "    for i in range(len(listaDesordenada)):\n",
        "        for j in range(i,0,-1):\n",
        "            veces+=1\n",
        "            if listaDesordenada[j] < listaDesordenada[j-1]:\n",
        "                listaDesordenada[j], listaDesordenada[j-1] = listaDesordenada[j-1], listaDesordenada[j]\n",
        "            else:\n",
        "              break\n",
        "    print(listaDesordenada)\n",
        "    return veces\n",
        "\n",
        "insertion_sort(25)\n",
        "\n"
      ],
      "execution_count": 1,
      "outputs": [
        {
          "output_type": "stream",
          "text": [
            "[ 0.  1.  4.  6.  7.  8. 13. 16. 24. 24. 27. 28. 28. 30. 31. 31. 36. 38.\n",
            " 41. 44. 48. 48. 48. 49. 50.]\n"
          ],
          "name": "stdout"
        },
        {
          "output_type": "execute_result",
          "data": {
            "text/plain": [
              "156"
            ]
          },
          "metadata": {
            "tags": []
          },
          "execution_count": 1
        }
      ]
    },
    {
      "cell_type": "markdown",
      "metadata": {
        "id": "1zIaqWFR5D6X"
      },
      "source": [
        "#Grafica y Tiempo"
      ]
    },
    {
      "cell_type": "code",
      "metadata": {
        "colab": {
          "base_uri": "https://localhost:8080/",
          "height": 812
        },
        "id": "SC9saW_v49kK",
        "outputId": "5375a94b-05f1-4802-cc02-e9413726e597"
      },
      "source": [
        "\n",
        "times = {}\n",
        "\n",
        "def test(n):\n",
        "  start_time = t.time()\n",
        "  print(insertion_sort(n))\n",
        "  times[n]= t.time() - start_time\n",
        "  print(\"--- %s seconds ---\" % (times[n]))\n",
        "\n",
        "def plot(times):\n",
        "  lists = sorted(times.items())\n",
        "  x, y = zip(*lists)\n",
        "  plt.plot(x, y)\n",
        "  plt.show()\n",
        "  print(times)\n",
        "\n",
        "for i in range(10):\n",
        "  test(i)\n",
        "\n",
        "plot(times)"
      ],
      "execution_count": 2,
      "outputs": [
        {
          "output_type": "stream",
          "text": [
            "[]\n",
            "0\n",
            "--- 0.00012755393981933594 seconds ---\n",
            "[8.]\n",
            "0\n",
            "--- 0.00039887428283691406 seconds ---\n",
            "[ 8. 36.]\n",
            "1\n",
            "--- 0.0005619525909423828 seconds ---\n",
            "[ 8. 36. 48.]\n",
            "2\n",
            "--- 0.00043010711669921875 seconds ---\n",
            "[ 4.  8. 36. 48.]\n",
            "5\n",
            "--- 0.0005731582641601562 seconds ---\n",
            "[ 4.  8. 16. 36. 48.]\n",
            "8\n",
            "--- 0.0004391670227050781 seconds ---\n",
            "[ 4.  7.  8. 16. 36. 48.]\n",
            "13\n",
            "--- 0.000469207763671875 seconds ---\n",
            "[ 4.  7.  8. 16. 31. 36. 48.]\n",
            "16\n",
            "--- 0.0004639625549316406 seconds ---\n",
            "[ 4.  7.  8. 16. 31. 36. 48. 48.]\n",
            "17\n",
            "--- 0.0005397796630859375 seconds ---\n",
            "[ 4.  7.  8. 16. 28. 31. 36. 48. 48.]\n",
            "22\n",
            "--- 0.0005977153778076172 seconds ---\n"
          ],
          "name": "stdout"
        },
        {
          "output_type": "display_data",
          "data": {
            "image/png": "[encoded data removed]",
            "text/plain": [
              "<Figure size 432x288 with 1 Axes>"
            ]
          },
          "metadata": {
            "tags": [],
            "needs_background": "light"
          }
        },
        {
          "output_type": "stream",
          "text": [
            "{0: 0.00012755393981933594, 1: 0.00039887428283691406, 2: 0.0005619525909423828, 3: 0.00043010711669921875, 4: 0.0005731582641601562, 5: 0.0004391670227050781, 6: 0.000469207763671875, 7: 0.0004639625549316406, 8: 0.0005397796630859375, 9: 0.0005977153778076172}\n"
          ],
          "name": "stdout"
        }
      ]
    },
    {
      "cell_type": "markdown",
      "metadata": {
        "id": "jr3WJgzqsqbT"
      },
      "source": [
        "#Analisis de Complejidad\n",
        "\n",
        "T(n) = C1 + Θ(n) * C2 + C3 + ( Θ(n) * ( Θ(m) * C4 )) + C5\n"
      ]
    },
    {
      "cell_type": "markdown",
      "metadata": {
        "id": "9JqGzI6Hstqq"
      },
      "source": [
        "#Análisis cualitativo de la solución\n",
        "El codigo anterior se basa en un simple algoritmo de ordenamiento.En el cual la funcion siguiente recibe un parametro  el cual va a ser la cantidad de numeros random que va a generar nuestro algoritmo y el cual se ordenara de la siguiente forma. Se basa en comenzar en la posicion 0 del arreglo y evaluar si el numero es mayor o menor al siguiente y asi ir evaluando sucesivamente hasta llegar a la ultima posicion del arreglo , y repetir el proceso la cantidad de numeros en el arreglo , de esa forma dejar el arreglo perfectamente ordenado.\n",
        "Es un algoritmo natural , bastante eficiente , que es la primera opcion que se busca en cuanto a el ordenamiento , pero no es el mas eficiente, igual no es el mejor en orden de tiempo."
      ]
    }
  ]
}