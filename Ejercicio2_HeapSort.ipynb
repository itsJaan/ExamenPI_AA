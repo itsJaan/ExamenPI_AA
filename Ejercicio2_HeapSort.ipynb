{
  "nbformat": 4,
  "nbformat_minor": 0,
  "metadata": {
    "colab": {
      "name": "Ejercicio2_HeapSort.ipynb",
      "provenance": [],
      "collapsed_sections": []
    },
    "kernelspec": {
      "name": "python3",
      "display_name": "Python 3"
    }
  },
  "cells": [
    {
      "cell_type": "code",
      "metadata": {
        "colab": {
          "base_uri": "https://localhost:8080/"
        },
        "id": "OChmiZ5eujIM",
        "outputId": "acab0baa-7cc1-4c18-f9d7-c06341d570c8"
      },
      "source": [
        "def heapify(arr, n, root):\n",
        "    largest = root\n",
        "    left = 2 * root + 1  \n",
        "    right = 2 * root + 2     \n",
        "    \n",
        "    if left < n and arr[largest] < arr[left]:\n",
        "        largest = left\n",
        "\n",
        "    if right < n and arr[largest] < arr[right]:\n",
        "        largest = right\n",
        "\n",
        "    if largest != root:\n",
        "        arr[root], arr[largest] = arr[largest], arr[root]\n",
        "        heapify(arr, n, largest)\n",
        " \n",
        "def heapSort(arr):\n",
        "    n = len(arr)\n",
        "    for i in range(n//2 - 1, -1, -1):\n",
        "        heapify(arr, n, i)\n",
        " \n",
        "    for i in range(n-1, 0, -1):\n",
        "        arr[i], arr[0] = arr[0], arr[i]\n",
        "        heapify(arr, i, 0)\n",
        "    print(arr)\n",
        " \n",
        "arr = [12, 11, 13, 5, 6, 7]\n",
        "heapSort(arr)"
      ],
      "execution_count": null,
      "outputs": [
        {
          "output_type": "stream",
          "text": [
            "[5, 6, 7, 11, 12, 13]\n"
          ],
          "name": "stdout"
        }
      ]
    },
    {
      "cell_type": "code",
      "metadata": {
        "colab": {
          "base_uri": "https://localhost:8080/",
          "height": 642
        },
        "id": "BWy2aSe_46cG",
        "outputId": "f838753a-ffde-4fb2-a9e2-2d9eec5cb155"
      },
      "source": [
        "import matplotlib.pyplot as plt\n",
        "import numpy as np\n",
        "import time as t\n",
        "\n",
        "times = {}\n",
        "testArr = [12, 11, 13, 5, 6, 7]\n",
        "\n",
        "def test(n):\n",
        "  start_time = t.time()\n",
        "  heapSort(testArr)\n",
        "  times[n]= t.time() - start_time\n",
        "  print(\"--- %s seconds ---\" % (times[n]))\n",
        "\n",
        "def plot(times):\n",
        "  lists = sorted(times.items())\n",
        "  x, y = zip(*lists)\n",
        "  plt.plot(x, y)\n",
        "  plt.show()\n",
        "  print(times)\n",
        "\n",
        "for i in range(10):\n",
        "  test(i)\n",
        "\n",
        "plot(times)"
      ],
      "execution_count": null,
      "outputs": [
        {
          "output_type": "stream",
          "text": [
            "[5, 6, 7, 11, 12, 13]\n",
            "--- 0.00011515617370605469 seconds ---\n",
            "[5, 6, 7, 11, 12, 13]\n",
            "--- 4.00543212890625e-05 seconds ---\n",
            "[5, 6, 7, 11, 12, 13]\n",
            "--- 3.314018249511719e-05 seconds ---\n",
            "[5, 6, 7, 11, 12, 13]\n",
            "--- 5.602836608886719e-05 seconds ---\n",
            "[5, 6, 7, 11, 12, 13]\n",
            "--- 4.00543212890625e-05 seconds ---\n",
            "[5, 6, 7, 11, 12, 13]\n",
            "--- 3.814697265625e-05 seconds ---\n",
            "[5, 6, 7, 11, 12, 13]\n",
            "--- 3.886222839355469e-05 seconds ---\n",
            "[5, 6, 7, 11, 12, 13]\n",
            "--- 3.886222839355469e-05 seconds ---\n",
            "[5, 6, 7, 11, 12, 13]\n",
            "--- 3.7670135498046875e-05 seconds ---\n",
            "[5, 6, 7, 11, 12, 13]\n",
            "--- 3.123283386230469e-05 seconds ---\n"
          ],
          "name": "stdout"
        },
        {
          "output_type": "display_data",
          "data": {
            "image/png": "[encoded data removed]",
            "text/plain": [
              "<Figure size 432x288 with 1 Axes>"
            ]
          },
          "metadata": {
            "tags": [],
            "needs_background": "light"
          }
        },
        {
          "output_type": "stream",
          "text": [
            "{0: 0.00011515617370605469, 1: 4.00543212890625e-05, 2: 3.314018249511719e-05, 3: 5.602836608886719e-05, 4: 4.00543212890625e-05, 5: 3.814697265625e-05, 6: 3.886222839355469e-05, 7: 3.886222839355469e-05, 8: 3.7670135498046875e-05, 9: 3.123283386230469e-05}\n"
          ],
          "name": "stdout"
        }
      ]
    },
    {
      "cell_type": "markdown",
      "metadata": {
        "id": "PPQF7W3c1tuq"
      },
      "source": [
        "#Analisis de complejidad.\n",
        "a = 1\n",
        "b = 2\n",
        "d = 0\n",
        "\n",
        "Θnlog(n)\n"
      ]
    },
    {
      "cell_type": "markdown",
      "metadata": {
        "id": "1CNSjB9w12IY"
      },
      "source": [
        "#Análisis cualitativo de la solución\n",
        "El codigo anterior muestra un tipo de ordenamiento  utilizando el heap asi como el nombre lo dice. Basa su funcionamiento en una propiedad de los montículos, por la cual, la cima contiene siempre el mayor o el menor de todos los almacenados en él. El algoritmo, después de cada extracción, recoloca en el nodo raíz, la última hoja o la ultima posicion del arreglo en tomado desde el punto de vista de un arreglo. Lo cual continuamente nos hace volver a repetir la funcion para que el ordenamiento continue.\n",
        "Al final tenemos que la funcion heapify seria θlog(n) , heapsort seria n lo cual seria al final θnlog(n), lo cual podemos considerar que es un algoritmo eficiente pero no es la mejor opcion si eficiencia buscamos para nuestro algoritmo \n"
      ]
    }
  ]
}