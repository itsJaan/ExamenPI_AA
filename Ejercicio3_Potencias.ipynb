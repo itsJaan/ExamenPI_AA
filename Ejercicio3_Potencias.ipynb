{
  "nbformat": 4,
  "nbformat_minor": 0,
  "metadata": {
    "colab": {
      "name": "Ejercicio3_Potencias.ipynb",
      "provenance": [],
      "collapsed_sections": []
    },
    "kernelspec": {
      "name": "python3",
      "display_name": "Python 3"
    }
  },
  "cells": [
    {
      "cell_type": "code",
      "metadata": {
        "colab": {
          "base_uri": "https://localhost:8080/"
        },
        "id": "i3YEe8OXUmCh",
        "outputId": "35c7a61f-b90c-4234-e3f1-7a37ee780ee6"
      },
      "source": [
        "import math\n",
        "def pot(base, p):\n",
        "  if p == 0:\n",
        "    return 1\n",
        "  elif p == 1:\n",
        "    return base\n",
        "  else:\n",
        "    result = pot(base, math.floor(p / 2))\n",
        "    result = result * result\n",
        "    if p % 2 == 1:\n",
        "      result  = result * 2\n",
        "  print(result)\n",
        "  \n",
        "pot(2,3)"
      ],
      "execution_count": null,
      "outputs": [
        {
          "output_type": "stream",
          "text": [
            "8\n"
          ],
          "name": "stdout"
        }
      ]
    },
    {
      "cell_type": "code",
      "metadata": {
        "colab": {
          "base_uri": "https://localhost:8080/",
          "height": 642
        },
        "id": "sW1cdScpV5O8",
        "outputId": "84ffca93-73c0-4dd2-faff-3f4d2fb69035"
      },
      "source": [
        "import matplotlib.pyplot as plt\n",
        "import numpy as np\n",
        "import time as t\n",
        "\n",
        "times = {}\n",
        "base = 2\n",
        "p = 3\n",
        "\n",
        "def test(n):\n",
        "  start_time = t.time()\n",
        "  pot(base,p)\n",
        "  times[n]= t.time() - start_time\n",
        "  print(\"--- %s seconds ---\" % (times[n]))\n",
        "\n",
        "def plot(times):\n",
        "  lists = sorted(times.items())\n",
        "  x, y = zip(*lists)\n",
        "  plt.plot(x, y)\n",
        "  plt.show()\n",
        "  print(times)\n",
        "\n",
        "for i in range(10):\n",
        "  test(i)\n",
        "\n",
        "plot(times)"
      ],
      "execution_count": null,
      "outputs": [
        {
          "output_type": "stream",
          "text": [
            "8\n",
            "--- 0.00013685226440429688 seconds ---\n",
            "8\n",
            "--- 3.647804260253906e-05 seconds ---\n",
            "8\n",
            "--- 1.5020370483398438e-05 seconds ---\n",
            "8\n",
            "--- 1.4066696166992188e-05 seconds ---\n",
            "8\n",
            "--- 4.2438507080078125e-05 seconds ---\n",
            "8\n",
            "--- 2.2411346435546875e-05 seconds ---\n",
            "8\n",
            "--- 2.2411346435546875e-05 seconds ---\n",
            "8\n",
            "--- 2.3365020751953125e-05 seconds ---\n",
            "8\n",
            "--- 3.0517578125e-05 seconds ---\n",
            "8\n",
            "--- 2.3126602172851562e-05 seconds ---\n"
          ],
          "name": "stdout"
        },
        {
          "output_type": "display_data",
          "data": {
            "image/png": "[encoded data removed]",
            "text/plain": [
              "<Figure size 432x288 with 1 Axes>"
            ]
          },
          "metadata": {
            "tags": [],
            "needs_background": "light"
          }
        },
        {
          "output_type": "stream",
          "text": [
            "{0: 0.00013685226440429688, 1: 3.647804260253906e-05, 2: 1.5020370483398438e-05, 3: 1.4066696166992188e-05, 4: 4.2438507080078125e-05, 5: 2.2411346435546875e-05, 6: 2.2411346435546875e-05, 7: 2.3365020751953125e-05, 8: 3.0517578125e-05, 9: 2.3126602172851562e-05}\n"
          ],
          "name": "stdout"
        }
      ]
    },
    {
      "cell_type": "markdown",
      "metadata": {
        "id": "DKhhW-YrV4yM"
      },
      "source": [
        "#Analisis de complejidad\n",
        "\n",
        "\n",
        "a = 1\n",
        "b = 2\n",
        "d = 0\n",
        "\n",
        "Θ(1) = Θ(n^0)\n",
        "\n",
        "Θ(logn)"
      ]
    },
    {
      "cell_type": "markdown",
      "metadata": {
        "id": "JJQSIeJnV6ZR"
      },
      "source": [
        "#Análisis cualitativo de la solución\n",
        "\n",
        "El Algoritmo anterior fue desarrollado de manera sencilla , lo cual se basa simplemente en sacar la potencia de un numero entero. En nuestra funcion podemos notar que tenemos dos argumentos el cual representa el numero base , y la potencia, y se desarrolla de la siguiente manera de tres casos if los cuales se representan con los casos de que la potencia sea 0 sea 1 o sea N\n",
        "\n",
        "La funcion fue desarrollada de manera recursiva implementando una libreria de math para hacer los calculos y de manera que el resultado al final sea el indicado.\n",
        "\n",
        "Este algoritmo viene a ser bastante eficiente al ser implementado de esta manera de la forma recursiva en la cual se utiliza divide y venceras lo cual lo hace log(n) lo cual lo viene a hacer bastante eficiente y rapido en cuanto a tiempo de ejecucion\n"
      ]
    }
  ]
}