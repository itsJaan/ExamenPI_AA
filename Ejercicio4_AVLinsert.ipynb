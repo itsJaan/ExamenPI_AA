{
  "nbformat": 4,
  "nbformat_minor": 0,
  "metadata": {
    "colab": {
      "name": "Ejercicio4_AVLinsert.ipynb",
      "provenance": [],
      "collapsed_sections": []
    },
    "kernelspec": {
      "name": "python3",
      "display_name": "Python 3"
    }
  },
  "cells": [
    {
      "cell_type": "code",
      "metadata": {
        "id": "Zm13Z6iIziCd",
        "colab": {
          "base_uri": "https://localhost:8080/"
        },
        "outputId": "b156d8d6-974f-4638-b7ff-cdba44345ccf"
      },
      "source": [
        "class TreeNode(object): \n",
        "    def __init__(self, val): \n",
        "        self.val = val \n",
        "        self.left = None\n",
        "        self.right = None\n",
        "        self.height = 1\n",
        "\n",
        "class AVL_Tree(object): \n",
        "    def insert(self, root, key): \n",
        "        balance = 0\n",
        "        if not root: \n",
        "            return TreeNode(key) \n",
        "        elif key < root.val: \n",
        "            root.left = self.insert(root.left, key)\n",
        "        else: \n",
        "            root.right = self.insert(root.right, key) \n",
        "            root.height = 1 + max(self.getHeight(root.left),self.getHeight(root.right)) \n",
        "            balance = self.getBalance(root) \n",
        "\n",
        "        if balance > 1 and key < root.left.val: \n",
        "            return self.rightRotate(root) \n",
        "  \n",
        "        if balance < -1 and key > root.right.val: \n",
        "            return self.leftRotate(root) \n",
        "  \n",
        "        if balance > 1 and key > root.left.val: \n",
        "            root.left = self.leftRotate(root.left) \n",
        "            return self.rightRotate(root) \n",
        "  \n",
        "        if balance < -1 and key < root.right.val: \n",
        "            root.right = self.rightRotate(root.right) \n",
        "            return self.leftRotate(root) \n",
        "        return root \n",
        "  \n",
        "    def leftRotate(self, z): \n",
        "        y = z.right \n",
        "        T2 = y.left \n",
        "        y.left = z \n",
        "        z.right = T2 \n",
        "\n",
        "        z.height = 1 + max(self.getHeight(z.left),self.getHeight(z.right)) \n",
        "        y.height = 1 + max(self.getHeight(y.left),self.getHeight(y.right)) \n",
        "        return y \n",
        "  \n",
        "    def rightRotate(self, z): \n",
        "        y = z.left \n",
        "        T3 = y.right \n",
        "        y.right = z \n",
        "        z.left = T3 \n",
        "\n",
        "        z.height = 1 + max(self.getHeight(z.left),self.getHeight(z.right)) \n",
        "        y.height = 1 + max(self.getHeight(y.left),self.getHeight(y.right)) \n",
        "        return y \n",
        "  \n",
        "    def getHeight(self, root): \n",
        "        if not root: \n",
        "            return 0\n",
        "        return root.height \n",
        "  \n",
        "    def getBalance(self, root): \n",
        "        if not root: \n",
        "            return 0\n",
        "        return self.getHeight(root.left) - self.getHeight(root.right) \n",
        "  \n",
        "    def preOrder(self, root): \n",
        "        if not root: \n",
        "            return\n",
        "        print(\"{0} \".format(root.val), end=\"\") \n",
        "        self.preOrder(root.left) \n",
        "        self.preOrder(root.right) \n",
        "\n",
        "myTree = AVL_Tree() \n",
        "root = None\n",
        "  \n",
        "root = myTree.insert(root, 10) \n",
        "root = myTree.insert(root, 20) \n",
        "root = myTree.insert(root, 30) \n",
        "root = myTree.insert(root, 40) \n",
        "root = myTree.insert(root, 50) \n",
        "root = myTree.insert(root, 25) \n",
        "\n",
        "myTree.preOrder(root) \n",
        "print() "
      ],
      "execution_count": 1,
      "outputs": [
        {
          "output_type": "stream",
          "text": [
            "20 10 40 30 25 50 \n"
          ],
          "name": "stdout"
        }
      ]
    },
    {
      "cell_type": "markdown",
      "metadata": {
        "id": "jr3WJgzqsqbT"
      },
      "source": [
        "#Analisis de Complejidad\n",
        "\n",
        "a = 1\n",
        "b = 2\n",
        "d = Θ(1)\n",
        "\n",
        "T(n) = 1 * T ( n/2 ) + f ( n^0 )\n",
        "\n",
        "Θlog(n)\n",
        "\n"
      ]
    },
    {
      "cell_type": "markdown",
      "metadata": {
        "id": "JJQSIeJnV6ZR"
      },
      "source": [
        "#Análisis cualitativo de la solución\n",
        "El anterior algoritmo dado esta basado en un arbol avl, dando interes al insercion de un nodo al arbol.\n",
        "\n",
        "Al insertar un nodo en un árbol AVL, inicialmente sigue el mismo proceso que para insertarlo en un árbol de búsqueda binaria.Después de esta inserción, si un árbol se desequilibra, solo los antepasados ​​del nodo recién insertado están desequilibrados. Esto se debe a que solo esos nodos tienen sus subárboles alterados.\n",
        "\n",
        "EL algoritmo de insercion en el avl es bastante cargado en cuanto a funciones auxiliares ya que se utiliza el balanceo y las rotaciones y siendo utilizado recursivamente es una forma basntante buena en cuanto a eficiencia , reduciendo en si los tiempos de ejecuccion.\n"
      ]
    }
  ]
}