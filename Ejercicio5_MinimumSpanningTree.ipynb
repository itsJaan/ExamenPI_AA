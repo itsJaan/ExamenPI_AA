{
  "nbformat": 4,
  "nbformat_minor": 0,
  "metadata": {
    "colab": {
      "name": "Ejercicio5_MinimumSpanningTree.ipynb",
      "provenance": [],
      "collapsed_sections": []
    },
    "kernelspec": {
      "name": "python3",
      "display_name": "Python 3"
    }
  },
  "cells": [
    {
      "cell_type": "code",
      "metadata": {
        "id": "0Fghfs2p77tK",
        "colab": {
          "base_uri": "https://localhost:8080/"
        },
        "outputId": "f43c3b01-2c56-4a38-886b-729ce2a8b518"
      },
      "source": [
        "from dataclasses import dataclass, field\n",
        "\n",
        "@dataclass(eq=False)\n",
        "class Node :\n",
        "    idnum : int\n",
        "\n",
        "@dataclass\n",
        "class Graph :\n",
        "    source  : int\n",
        "    adjlist : dict\n",
        "\n",
        "    def PrimsMST(self):\n",
        "\n",
        "        priority_queue = { Node(self.source) : 0 }\n",
        "        added = [False] * len(self.adjlist)\n",
        "        min_span_tree_cost = 0\n",
        "\n",
        "        while priority_queue :\n",
        "            node = min(priority_queue, key=priority_queue.get)\n",
        "            cost = priority_queue[node]\n",
        "\n",
        "            del priority_queue[node]\n",
        "\n",
        "            if added[node.idnum] == False :\n",
        "                min_span_tree_cost += cost\n",
        "                added[node.idnum] = True\n",
        "                print(\"Added Node : \" + str(node.idnum) + \", cost now : \"+str(min_span_tree_cost))\n",
        "\n",
        "                for item in self.adjlist[node.idnum] :\n",
        "                    adjnode = item[0]\n",
        "                    adjcost = item[1]\n",
        "                    if added[adjnode] == False :\n",
        "                        priority_queue[Node(adjnode)] = adjcost\n",
        "\n",
        "        return min_span_tree_cost\n",
        "\n",
        "\n",
        "g1_edges_from_node = {}\n",
        "g1_edges_from_node[0] = [ (1,1), (2,2), (3,1), (4,1), (5,2), (6,1) ]\n",
        "g1_edges_from_node[1] = [ (0,1), (2,2), (6,2) ]\n",
        "g1_edges_from_node[2] = [ (0,2), (1,2), (3,1) ]\n",
        "g1_edges_from_node[3] = [ (0,1), (2,1), (4,2) ]\n",
        "g1_edges_from_node[4] = [ (0,1), (3,2), (5,2) ]\n",
        "g1_edges_from_node[5] = [ (0,2), (4,2), (6,1) ]\n",
        "g1_edges_from_node[6] = [ (0,1), (2,2), (5,1) ]\n",
        "\n",
        "g1 = Graph(0, g1_edges_from_node)\n",
        "cost = g1.PrimsMST()\n",
        "print(cost)"
      ],
      "execution_count": 1,
      "outputs": [
        {
          "output_type": "stream",
          "text": [
            "Added Node : 0, cost now : 0\n",
            "Added Node : 1, cost now : 1\n",
            "Added Node : 3, cost now : 2\n",
            "Added Node : 4, cost now : 3\n",
            "Added Node : 6, cost now : 4\n",
            "Added Node : 2, cost now : 5\n",
            "Added Node : 5, cost now : 6\n",
            "6\n"
          ],
          "name": "stdout"
        }
      ]
    },
    {
      "cell_type": "markdown",
      "metadata": {
        "id": "jr3WJgzqsqbT"
      },
      "source": [
        "#Analisis de Complejidad\n",
        "\n",
        "T(n) = C + Θ(n) * C * ( (Θ(n) * C ) + C\n"
      ]
    },
    {
      "cell_type": "markdown",
      "metadata": {
        "id": "JJQSIeJnV6ZR"
      },
      "source": [
        "#Análisis cualitativo de la solución\n",
        "\n",
        "\n",
        "El algoritmo es un algoritmo codicioso que encuentra un árbol de expansión mínimo para un gráfico no dirigido ponderado. Esto significa que encuentra un subconjunto de los bordes que forma un árbol que incluye cada vértice, donde se minimiza el peso total de todos los bordes del árbol. El algoritmo opera construyendo este árbol un vértice a la vez, desde un vértice inicial arbitrario, en cada paso agregando la conexión más barata posible del árbol a otro vértice.\n",
        "\n"
      ]
    }
  ]
}